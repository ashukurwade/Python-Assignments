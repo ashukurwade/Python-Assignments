{
 "cells": [
  {
   "cell_type": "markdown",
   "metadata": {
    "id": "yVE7L7dorP4H"
   },
   "source": [
    "<a id='1'></a><center> <h3 style=\"background-color:orange; color:white\" ><br>Python Basics<br></h3>"
   ]
  },
  {
   "cell_type": "code",
   "execution_count": 1,
   "metadata": {
    "id": "kOtDhbwWrP4I"
   },
   "outputs": [
    {
     "name": "stdout",
     "output_type": "stream",
     "text": [
      "My Name is Ashutosh\n"
     ]
    }
   ],
   "source": [
    "# What is your name! print your name!\n",
    "# Only use one print function\n",
    "\n",
    "print(\"My Name is Ashutosh\")"
   ]
  },
  {
   "cell_type": "markdown",
   "metadata": {
    "id": "kJxHTHrVrP4I"
   },
   "source": [
    "* `()` <= `Parentheses`\n",
    "* `''` <= `Single Quotes`\n",
    "* `\"\"` <= `Double Quotes`\n",
    "* `\\n` <= `New_line `\n",
    "* `#` <= `Used to comment inside code`"
   ]
  },
  {
   "cell_type": "code",
   "execution_count": 2,
   "metadata": {
    "id": "hqiWhz6srP4K"
   },
   "outputs": [],
   "source": [
    "# define variables named as with values: mukesh=7, z=6, rohan=5, longitude=4\n",
    "\n",
    "mukesh = 7\n",
    "z = 6\n",
    "rohan = 5\n",
    "Longitude = 4"
   ]
  },
  {
   "cell_type": "code",
   "execution_count": 5,
   "metadata": {
    "id": "W77FFVIqrP4K"
   },
   "outputs": [
    {
     "name": "stdout",
     "output_type": "stream",
     "text": [
      "5\n"
     ]
    }
   ],
   "source": [
    "# print required variable\n",
    "# output - 5\n",
    "print(rohan)"
   ]
  },
  {
   "cell_type": "markdown",
   "metadata": {
    "id": "89kwQhu5rP4K"
   },
   "source": [
    "Variable Assignment:\n",
    "**`Variable_Name = Value`**\n",
    "\n",
    "Variables Naming Rules:\n",
    "* `Python is case-senstive` => x=5 is different from X=5 (one is lowe and other is upper case)\n",
    "* `var name can't start with special character except underscore(_)` => _X = 7 is `valid`, @X = 7 is `invalid`\n",
    "* `var name can't start with number` => 9X = 7 is `invalid`, X9 = 7 is `valid`\n",
    "* can't use `keywords` as a variable name\n",
    "    *"
   ]
  },
  {
   "cell_type": "markdown",
   "metadata": {
    "id": "hiYt4qiJrP4K",
    "jp-MarkdownHeadingCollapsed": true
   },
   "source": [
    "# **`Declaring a Variable`** <br>\n"
   ]
  },
  {
   "cell_type": "code",
   "execution_count": 11,
   "metadata": {
    "id": "5pomjoc_rP4L"
   },
   "outputs": [
    {
     "name": "stdout",
     "output_type": "stream",
     "text": [
      "manral\n",
      "21\n",
      "50.6\n",
      "Mukesh\n"
     ]
    }
   ],
   "source": [
    "# declare 4 variables with values as: ur_age 21,ur_weight 50.6, ur_first_name = 'Mukesh',ur_last_name = \"Manral\"\n",
    "\n",
    "ur_age = 21\n",
    "ur_weight = 50.6\n",
    "ur_first_name = 'Mukesh'\n",
    "print(ur_last_name)\n",
    "print(ur_age)\n",
    "print(ur_weight)\n",
    "print(ur_first_name)\n"
   ]
  },
  {
   "cell_type": "markdown",
   "metadata": {
    "id": "aD6_WvkKrP4L",
    "jp-MarkdownHeadingCollapsed": true
   },
   "source": [
    "# **`Data Type(Type of variable)`**"
   ]
  },
  {
   "cell_type": "markdown",
   "metadata": {
    "id": "snzoPkD3rP4L"
   },
   "source": [
    "| Name | Type | Description |\n",
    "| ---- | ---- | ----|\n",
    "|Integers | int | Integer number, like 34,-56 ...|\n",
    "|Float | float | Decimal number, like 3.4,-5.6 ...|\n",
    "|String| str | Ordered sequence of characters, like 'your name' |\n",
    "|Boolean |bool |Logical values indicating True or False only |"
   ]
  },
  {
   "cell_type": "code",
   "execution_count": 4,
   "metadata": {
    "id": "Bb_fmhaOrP4L"
   },
   "outputs": [
    {
     "name": "stdout",
     "output_type": "stream",
     "text": [
      "<class 'int'>\n",
      "<class 'float'>\n",
      "<class 'str'>\n",
      "<class 'str'>\n"
     ]
    }
   ],
   "source": [
    "# print type of ur_age,ur_weight,ur_first_name,ur_last_name variables\n",
    "ur_age = 24\n",
    "ur_weight = 60.58\n",
    "ur_first_name = 'Vishal'\n",
    "ur_last_name = 'bute'\n",
    "\n",
    "print(type(ur_age))\n",
    "print(type(ur_weight))\n",
    "print(type(ur_first_name))\n",
    "print(type(ur_last_name))\n"
   ]
  },
  {
   "cell_type": "code",
   "execution_count": 5,
   "metadata": {
    "id": "iaADKqUwrP4L"
   },
   "outputs": [
    {
     "name": "stdout",
     "output_type": "stream",
     "text": [
      "ur_age: 24\n",
      "ur_weight: 60.58\n",
      "ur_first_name: Vishal\n",
      "ur_last_name: bute\n"
     ]
    }
   ],
   "source": [
    "# print values of ur_age,ur_weight,ur_first_name,ur_last_name variables\n",
    "print('ur_age:', ur_age)               \n",
    "print('ur_weight:', ur_weight)         \n",
    "print('ur_first_name:', ur_first_name) \n",
    "print('ur_last_name:', ur_last_name)   "
   ]
  },
  {
   "cell_type": "code",
   "execution_count": 6,
   "metadata": {
    "id": "Hde3D2uQrP4L"
   },
   "outputs": [
    {
     "name": "stdout",
     "output_type": "stream",
     "text": [
      "TrueOrFalse: True\n"
     ]
    }
   ],
   "source": [
    "# make 2 variables with values as: ur_first_name 'Mukesh',ur_last_name'Mukesh'\n",
    "ur_first_name = 'Mukesh'\n",
    "ur_last_name = 'Mukesh'\n",
    "# make a variable TrueOrFalse which will have comparison of variables ur_last_name == ur_first_name\n",
    "TrueOrFalse = (ur_last_name == ur_first_name)\n",
    "\n",
    "print('TrueOrFalse:', TrueOrFalse)   "
   ]
  },
  {
   "cell_type": "code",
   "execution_count": null,
   "metadata": {
    "id": "l0T95ed1st1c"
   },
   "outputs": [],
   "source": []
  },
  {
   "cell_type": "code",
   "execution_count": 9,
   "metadata": {
    "id": "39JWxM7KrP4M"
   },
   "outputs": [
    {
     "name": "stdout",
     "output_type": "stream",
     "text": [
      "777\n"
     ]
    }
   ],
   "source": [
    "# define a variable name \"x\" and assign value 777 and print it\n",
    "x = 777\n",
    "print(x)\n"
   ]
  },
  {
   "cell_type": "markdown",
   "metadata": {
    "id": "QXnovK7lrP4M"
   },
   "source": [
    "* To view some data on screen, python have `print` function\n",
    "    * Using `print` function we can control view on output screen\n"
   ]
  },
  {
   "cell_type": "code",
   "execution_count": null,
   "metadata": {
    "id": "8_PEGb9Sst1d"
   },
   "outputs": [],
   "source": []
  },
  {
   "cell_type": "markdown",
   "metadata": {
    "id": "4Wfm35b4rP4P"
   },
   "source": [
    "`Operators`: Symbols that represent mathematical or logical tasks\n",
    "\n",
    "Example:<br>\n",
    "`700` `+` `77`<br>\n",
    "* `+` <= Operator\n",
    "* `700` & `77` <= Operands\n"
   ]
  },
  {
   "cell_type": "code",
   "execution_count": 11,
   "metadata": {
    "id": "9eHULNrarP4Q"
   },
   "outputs": [
    {
     "name": "stdout",
     "output_type": "stream",
     "text": [
      "7 77 77.7 Hi\n"
     ]
    }
   ],
   "source": [
    "# Initialize variables [x,y,z,zz] with values\n",
    "x = 7 ## x as 7 =>int ,\n",
    "y = 77 ## y as 77 =>int,\n",
    "z = 77.7 ## z as 77.7 => float,\n",
    "zz = 'Hi' ## zz as 'Hi' => string\n",
    "print(x,y,z,zz)"
   ]
  },
  {
   "cell_type": "markdown",
   "metadata": {
    "id": "kMGlbyturP4Q",
    "jp-MarkdownHeadingCollapsed": true
   },
   "source": [
    "# **`Arithmetic Operators`**"
   ]
  },
  {
   "cell_type": "code",
   "execution_count": 12,
   "metadata": {
    "id": "_7X7ChdtrP4Q"
   },
   "outputs": [
    {
     "name": "stdout",
     "output_type": "stream",
     "text": [
      "84.7\n"
     ]
    }
   ],
   "source": [
    "# add x and z\n",
    "add = x + z\n",
    "print(add)"
   ]
  },
  {
   "cell_type": "code",
   "execution_count": 13,
   "metadata": {
    "id": "VWA9vqXbrP4R"
   },
   "outputs": [
    {
     "name": "stdout",
     "output_type": "stream",
     "text": [
      "0.7000000000000028\n"
     ]
    }
   ],
   "source": [
    "# subtract z and y\n",
    "sub = z - y\n",
    "print(sub)"
   ]
  },
  {
   "cell_type": "code",
   "execution_count": 14,
   "metadata": {
    "id": "Xs-S0MhCrP4R"
   },
   "outputs": [
    {
     "name": "stdout",
     "output_type": "stream",
     "text": [
      "543.9\n"
     ]
    }
   ],
   "source": [
    "# Multiply x and z\n",
    "mul = x * z\n",
    "print(mul)"
   ]
  },
  {
   "cell_type": "code",
   "execution_count": 15,
   "metadata": {
    "id": "QTAL9jikrP4R"
   },
   "outputs": [
    {
     "name": "stdout",
     "output_type": "stream",
     "text": [
      "4.614426248242042e+65\n"
     ]
    }
   ],
   "source": [
    "# Exponent (raise the power or times) x times z\n",
    "expo = x ** z\n",
    "print(expo)"
   ]
  },
  {
   "cell_type": "code",
   "execution_count": 18,
   "metadata": {
    "id": "veuOn9YcrP4R"
   },
   "outputs": [
    {
     "name": "stdout",
     "output_type": "stream",
     "text": [
      "0.09009009009009009\n",
      "0.0\n"
     ]
    }
   ],
   "source": [
    "# division on x and z\n",
    "div = x / z\n",
    "divi = x // z \n",
    "\n",
    "print(div)\n",
    "print(divi)"
   ]
  },
  {
   "cell_type": "markdown",
   "metadata": {
    "id": "lPSllBVYrP4R"
   },
   "source": [
    "`//` => divides and returns integer value of quotient\n",
    "* It will dump digits after decimal"
   ]
  },
  {
   "cell_type": "code",
   "execution_count": 19,
   "metadata": {
    "id": "LjvFNdDHrP4R"
   },
   "outputs": [
    {
     "name": "stdout",
     "output_type": "stream",
     "text": [
      "0.0\n"
     ]
    }
   ],
   "source": [
    "# floor division(ignores decimal) on x and z (gives quotient)\n",
    "divi = x // z\n",
    "print(divi)"
   ]
  },
  {
   "cell_type": "code",
   "execution_count": 20,
   "metadata": {
    "id": "prGaXfI2rP4R"
   },
   "outputs": [
    {
     "name": "stdout",
     "output_type": "stream",
     "text": [
      "7.0\n"
     ]
    }
   ],
   "source": [
    "# Modulo(gives remainder) on x and z\n",
    "remainder = x % z\n",
    "print(remainder)"
   ]
  },
  {
   "cell_type": "markdown",
   "metadata": {
    "id": "BqiZFRnxrP4R",
    "jp-MarkdownHeadingCollapsed": true
   },
   "source": [
    "# **`Comparison Operators`**"
   ]
  },
  {
   "cell_type": "code",
   "execution_count": 21,
   "metadata": {
    "id": "cZTjTlksrP4S"
   },
   "outputs": [
    {
     "name": "stdout",
     "output_type": "stream",
     "text": [
      "True\n"
     ]
    }
   ],
   "source": [
    "# comapre and see if x is less then z\n",
    "# can use '<' symbol\n",
    "camp = x < z\n",
    "print(camp)\n"
   ]
  },
  {
   "cell_type": "code",
   "execution_count": 22,
   "metadata": {
    "id": "ugLB8T4zrP4S"
   },
   "outputs": [
    {
     "name": "stdout",
     "output_type": "stream",
     "text": [
      "True\n",
      "<class 'bool'>\n"
     ]
    }
   ],
   "source": [
    "# check the type of above comaprison where it says comapre and see if x is less then z\n",
    "camp = x < z\n",
    "print(camp)\n",
    "print(type(camp))"
   ]
  },
  {
   "cell_type": "markdown",
   "metadata": {
    "id": "JvyfWt8NrP4S"
   },
   "source": [
    "* `Bool` => takes two values, either `True` or `False`"
   ]
  },
  {
   "cell_type": "code",
   "execution_count": 23,
   "metadata": {
    "id": "qrLXc7h8rP4S"
   },
   "outputs": [
    {
     "name": "stdout",
     "output_type": "stream",
     "text": [
      "True\n"
     ]
    }
   ],
   "source": [
    "# compare and see if x is less then or equall to z\n",
    "# can use '<=' symbol\n",
    "camp1 = x <= z\n",
    "print(camp1)"
   ]
  },
  {
   "cell_type": "code",
   "execution_count": 24,
   "metadata": {
    "id": "QITa8mAorP4S"
   },
   "outputs": [
    {
     "data": {
      "text/plain": [
       "False"
      ]
     },
     "execution_count": 24,
     "metadata": {},
     "output_type": "execute_result"
    }
   ],
   "source": [
    "# comapre and see if x equall to z\n",
    "# can use '==' symbol\n",
    "x == z"
   ]
  },
  {
   "cell_type": "code",
   "execution_count": 25,
   "metadata": {
    "id": "to09wf4lrP4S"
   },
   "outputs": [
    {
     "data": {
      "text/plain": [
       "False"
      ]
     },
     "execution_count": 25,
     "metadata": {},
     "output_type": "execute_result"
    }
   ],
   "source": [
    "# comapre and see if x is greater than z\n",
    "# can use '>' symbol\n",
    "x > z "
   ]
  },
  {
   "cell_type": "code",
   "execution_count": 26,
   "metadata": {
    "id": "3XjJEvQmrP4S"
   },
   "outputs": [
    {
     "data": {
      "text/plain": [
       "False"
      ]
     },
     "execution_count": 26,
     "metadata": {},
     "output_type": "execute_result"
    }
   ],
   "source": [
    "# comapre and see if x is greater than or equall to z\n",
    "# can use '>=' symbol\n",
    "x >= z "
   ]
  },
  {
   "cell_type": "code",
   "execution_count": 27,
   "metadata": {
    "id": "U3R4NtLUrP4S"
   },
   "outputs": [
    {
     "data": {
      "text/plain": [
       "True"
      ]
     },
     "execution_count": 27,
     "metadata": {},
     "output_type": "execute_result"
    }
   ],
   "source": [
    "# comapre and see if x is Not equall to z\n",
    "# can use '!=' symbol\n",
    "x != z \n"
   ]
  },
  {
   "cell_type": "markdown",
   "metadata": {
    "id": "i1cSXmgbrP4T",
    "jp-MarkdownHeadingCollapsed": true
   },
   "source": [
    "# **`Logical Operators`**"
   ]
  },
  {
   "cell_type": "code",
   "execution_count": 30,
   "metadata": {
    "id": "qrf5nOLerP4T"
   },
   "outputs": [
    {
     "name": "stdout",
     "output_type": "stream",
     "text": [
      "True\n"
     ]
    }
   ],
   "source": [
    "# compare if 108 is equall to 108, 21 is equall to 21 using logical and\n",
    "# equall to => '=='\n",
    "# logical and => and\n",
    "\n",
    "# in and both condition must be True to get a True\n",
    "campare = (108 == 108) and (21==21)\n",
    "print(campare)\n"
   ]
  },
  {
   "cell_type": "code",
   "execution_count": 31,
   "metadata": {
    "id": "Zp51tX7NrP4T"
   },
   "outputs": [
    {
     "name": "stdout",
     "output_type": "stream",
     "text": [
      "False\n",
      "False\n",
      "False\n"
     ]
    }
   ],
   "source": [
    "# how above condition can give False as output show all those conditions\n",
    "\n",
    "# 1st condition\n",
    "campare = (108 == 109) and (21==21)\n",
    "print(campare)\n",
    "\n",
    "# 2nd condition\n",
    "campare = (108 == 108) and (21==22)\n",
    "print(campare)\n",
    "\n",
    "# 3rd condition\n",
    "campare = (108 == 109) and (21==22)\n",
    "print(campare)"
   ]
  },
  {
   "cell_type": "code",
   "execution_count": null,
   "metadata": {
    "execution": {
     "iopub.execute_input": "2021-12-13T11:22:39.576213Z",
     "iopub.status.busy": "2021-12-13T11:22:39.575636Z",
     "iopub.status.idle": "2021-12-13T11:22:39.58328Z",
     "shell.execute_reply": "2021-12-13T11:22:39.582673Z",
     "shell.execute_reply.started": "2021-12-13T11:22:39.576179Z"
    },
    "id": "TRMHLAHkrP4T"
   },
   "outputs": [],
   "source": [
    "# compare if 108 is equall to 108, 21 is equall to 11 using logical or\n",
    "# equall to => '=='\n",
    "# logical or => or\n",
    "\n",
    "# in or Only one condition need to be True to get a True\n",
    "\n"
   ]
  },
  {
   "cell_type": "code",
   "execution_count": null,
   "metadata": {
    "colab": {
     "base_uri": "https://localhost:8080/"
    },
    "execution": {
     "iopub.execute_input": "2021-12-13T11:22:58.998022Z",
     "iopub.status.busy": "2021-12-13T11:22:58.997422Z",
     "iopub.status.idle": "2021-12-13T11:22:59.004662Z",
     "shell.execute_reply": "2021-12-13T11:22:59.003884Z",
     "shell.execute_reply.started": "2021-12-13T11:22:58.997978Z"
    },
    "id": "QQRfWOkzrP4T",
    "outputId": "69a82d41-b61d-4183-ca01-c3550b5553f0"
   },
   "outputs": [
    {
     "data": {
      "text/plain": [
       "True"
      ]
     },
     "execution_count": 31,
     "metadata": {},
     "output_type": "execute_result"
    }
   ],
   "source": [
    "# this is for you to understand it\n",
    "(108 == 108) or (21 == 11) or (108 <= 11)"
   ]
  },
  {
   "cell_type": "code",
   "execution_count": 32,
   "metadata": {
    "id": "gBrou3cdst1k"
   },
   "outputs": [
    {
     "name": "stdout",
     "output_type": "stream",
     "text": [
      "True\n"
     ]
    }
   ],
   "source": [
    "# Compare if 108 is equal to 108 or 21 is equal to 11\n",
    "result = (108 == 108) or (21 == 11)\n",
    "\n",
    "# Print the result\n",
    "print(result)\n"
   ]
  },
  {
   "cell_type": "code",
   "execution_count": 33,
   "metadata": {},
   "outputs": [
    {
     "name": "stdout",
     "output_type": "stream",
     "text": [
      "False\n"
     ]
    }
   ],
   "source": [
    "# Both conditions are false\n",
    "result = (108 == 109) or (21 == 22)  # False or False = False\n",
    "\n",
    "# Print the result\n",
    "print(result)"
   ]
  },
  {
   "cell_type": "markdown",
   "metadata": {
    "id": "r5LWKR-irP4T",
    "jp-MarkdownHeadingCollapsed": true
   },
   "source": [
    "# **`if`--- `else`** => to handle single condition <br>\n",
    "# **`if`--- `elif`--- `else`** => to handle Multiple condition"
   ]
  },
  {
   "cell_type": "markdown",
   "metadata": {
    "id": "_7lo_XpYrP4U"
   },
   "source": [
    "`Observe in Python code:`\n",
    "* `if` => statement in python\n",
    "* `else` => statement in python\n",
    "* `:` => colon => denotes start of if block i.e. any line written after colon belong to if condition\n",
    "* `....` => see then as indentation i.e. 4 spaces => indentation indicates all code belong to only if and then another indentation indicates code for only else block"
   ]
  },
  {
   "cell_type": "code",
   "execution_count": 34,
   "metadata": {
    "id": "e2SpODuorP4U"
   },
   "outputs": [
    {
     "name": "stdout",
     "output_type": "stream",
     "text": [
      "True\n"
     ]
    }
   ],
   "source": [
    "# make variable with value as : money 100000\n",
    "\n",
    "# see output of money > 2000\n",
    "money = 100000\n",
    "res = money > 2000\n",
    "print(res)"
   ]
  },
  {
   "cell_type": "code",
   "execution_count": 35,
   "metadata": {
    "id": "8rLKbxCqrP4U"
   },
   "outputs": [
    {
     "name": "stdout",
     "output_type": "stream",
     "text": [
      "You have enough money to buy the Data Science course\n"
     ]
    }
   ],
   "source": [
    "# assign money variable value of 10000\n",
    "##### say you have this much ammount in your account\n",
    "\n",
    "# start of if condition\n",
    "# if money is greater then 1000 which is data science course free\n",
    "# if money > 1000 is false i.e. you have less money then 1000 in your account then else will work for now only if is working\n",
    "\n",
    "money = 10000\n",
    "\n",
    "if money > 1000:\n",
    "    print(\"You have enough money to buy the Data Science course\")\n",
    "else:\n",
    "    print(\"You don't have enough money to buy the Data Science course\")\n"
   ]
  },
  {
   "cell_type": "code",
   "execution_count": 36,
   "metadata": {},
   "outputs": [
    {
     "name": "stdout",
     "output_type": "stream",
     "text": [
      "You don't have enough money to buy the Data Science course\n"
     ]
    }
   ],
   "source": [
    "money = 500\n",
    "\n",
    "if money > 1000:\n",
    "    print(\"You have enough money to buy the Data Science course\")\n",
    "else:\n",
    "    print(\"You don't have enough money to buy the Data Science course\")"
   ]
  },
  {
   "cell_type": "code",
   "execution_count": 41,
   "metadata": {
    "id": "UkSB0BDKrP4V"
   },
   "outputs": [
    {
     "name": "stdout",
     "output_type": "stream",
     "text": [
      "Nothing for you\n"
     ]
    }
   ],
   "source": [
    "# take a test_score variable with 80 in it.\n",
    "\n",
    "# if test_score greater then 80 then print A grade\n",
    "# elif test_score greater then 60 and less then 80 print B grade\n",
    "# else print Nothing for you\n",
    "\n",
    "test_score = 80\n",
    "\n",
    "if test_score > 80:\n",
    "    print(\"A grade\")\n",
    "elif test_score > 60 and test_score < 80:\n",
    "    print(\"B grade\")\n",
    "else:\n",
    "    print(\"Nothing for you\")"
   ]
  },
  {
   "cell_type": "code",
   "execution_count": null,
   "metadata": {
    "id": "XHpnYnNvst1l"
   },
   "outputs": [],
   "source": []
  },
  {
   "cell_type": "markdown",
   "metadata": {
    "id": "1aiwnvKfst1m",
    "jp-MarkdownHeadingCollapsed": true
   },
   "source": [
    "# **`Python Loops`**"
   ]
  },
  {
   "cell_type": "code",
   "execution_count": 43,
   "metadata": {
    "colab": {
     "base_uri": "https://localhost:8080/",
     "height": 38
    },
    "id": "UsOavUkNrP4X",
    "outputId": "6a576f4b-5655-4091-e59b-722ecdd3f3fb"
   },
   "outputs": [
    {
     "data": {
      "text/plain": [
       "'\\nfor iterating_variable in sequence:\\n    statement(s)\\n'"
      ]
     },
     "execution_count": 43,
     "metadata": {},
     "output_type": "execute_result"
    }
   ],
   "source": [
    "\"\"\"\n",
    "for iterating_variable in sequence:\n",
    "    statement(s)\n",
    "\"\"\""
   ]
  },
  {
   "cell_type": "code",
   "execution_count": 44,
   "metadata": {
    "colab": {
     "base_uri": "https://localhost:8080/"
    },
    "id": "v3DtstO3rP4X",
    "outputId": "3138dfad-be46-49d8-a0aa-8e74c8855a9d"
   },
   "outputs": [
    {
     "name": "stdout",
     "output_type": "stream",
     "text": [
      "0\n",
      "1\n",
      "2\n",
      "3\n",
      "4\n",
      "5\n",
      "6\n",
      "7\n",
      "8\n",
      "9\n"
     ]
    }
   ],
   "source": [
    "for iterating_variable in range(10):\n",
    "    print(iterating_variable)"
   ]
  },
  {
   "cell_type": "code",
   "execution_count": 45,
   "metadata": {
    "id": "nD9f1mMwrP4X"
   },
   "outputs": [
    {
     "name": "stdout",
     "output_type": "stream",
     "text": [
      "I Love Sports\n",
      "I Love Sports\n",
      "I Love Sports\n",
      "I Love Sports\n",
      "I Love Sports\n",
      "I Love Sports\n",
      "I Love Sports\n",
      "I Love Sports\n",
      "I Love Sports\n",
      "I Love Sports\n"
     ]
    }
   ],
   "source": [
    "# print 'I love sports' 10 times using for loop\n",
    "for i in range(10):\n",
    "    print(\"I Love Sports\")"
   ]
  },
  {
   "cell_type": "markdown",
   "metadata": {
    "id": "F10cQq2RrP4X"
   },
   "source": [
    "`10` => `stoping criteria` of, for loop"
   ]
  },
  {
   "cell_type": "markdown",
   "metadata": {
    "id": "sYmBZqXkrP4X"
   },
   "source": [
    "* `in` => keyword\n",
    "* `sequence` => on which to itterate\n",
    "* `:` => colon , start of for loop"
   ]
  },
  {
   "cell_type": "markdown",
   "metadata": {
    "id": "nR0WJpXwrP4X"
   },
   "source": [
    "`!=` = not equall to => `behaves as a stoping criteria`"
   ]
  },
  {
   "cell_type": "code",
   "execution_count": null,
   "metadata": {
    "colab": {
     "base_uri": "https://localhost:8080/",
     "height": 38
    },
    "execution": {
     "iopub.status.busy": "2021-12-11T05:18:11.230229Z",
     "iopub.status.idle": "2021-12-11T05:18:11.230505Z",
     "shell.execute_reply": "2021-12-11T05:18:11.230373Z",
     "shell.execute_reply.started": "2021-12-11T05:18:11.230358Z"
    },
    "id": "vYJsdLnerP4Y",
    "outputId": "44686682-2f3a-4522-bdf4-84215e4a8f17"
   },
   "outputs": [
    {
     "data": {
      "text/plain": [
       "'\\nwhile comparison:\\n    statements(s)\\n'"
      ]
     },
     "execution_count": 42,
     "metadata": {},
     "output_type": "execute_result"
    }
   ],
   "source": [
    "# Syntax of while loop\n",
    "\"\"\"\n",
    "while comparison:\n",
    "    statements(s)\n",
    "\"\"\""
   ]
  },
  {
   "cell_type": "code",
   "execution_count": 46,
   "metadata": {
    "id": "No1lV66XrP4Y"
   },
   "outputs": [
    {
     "name": "stdout",
     "output_type": "stream",
     "text": [
      "0\n",
      "1\n",
      "2\n",
      "3\n",
      "4\n",
      "5\n",
      "6\n",
      "7\n",
      "8\n",
      "9\n",
      "10\n"
     ]
    }
   ],
   "source": [
    "# while loop\n",
    "\n",
    "# save 0 in variable number\n",
    "\n",
    "# print till 10 using while loop\n",
    "\n",
    "number = 0\n",
    "\n",
    "while number <= 10:\n",
    "    print(number)\n",
    "    number += 1"
   ]
  },
  {
   "cell_type": "markdown",
   "metadata": {
    "id": "9oFT7qEjrP4Y"
   },
   "source": [
    "* Initialized variable `number = 0` and then increment it's value in each iteration\n",
    "* Loop will only continue to run only if value is less than 10"
   ]
  },
  {
   "cell_type": "markdown",
   "metadata": {
    "id": "ZFHHxSeqrP4Z",
    "jp-MarkdownHeadingCollapsed": true
   },
   "source": [
    "# **`Type of Jump Statements`** <br>\n",
    "`Break Statement`\n",
    "`Continue Statement`"
   ]
  },
  {
   "cell_type": "markdown",
   "metadata": {
    "id": "2TlMjfJVrP4a",
    "jp-MarkdownHeadingCollapsed": true
   },
   "source": [
    "# **`Break Statement`**\n"
   ]
  },
  {
   "cell_type": "code",
   "execution_count": 49,
   "metadata": {
    "id": "9E-BFzqUrP4a"
   },
   "outputs": [
    {
     "name": "stdout",
     "output_type": "stream",
     "text": [
      "the number is 0\n",
      "the number is 1\n",
      "the number is 2\n",
      "the number is 3\n",
      "the number is 4\n",
      "the number is 5\n"
     ]
    }
   ],
   "source": [
    "# example that uses break statement in a for loop\n",
    "\n",
    "# take range(10) and print 'The number is' + value\n",
    "# break when num equals 5\n",
    "\n",
    "for num in range(10):\n",
    "    print(\"the number is\", num)\n",
    "\n",
    "    if num == 5:\n",
    "        break"
   ]
  },
  {
   "cell_type": "markdown",
   "metadata": {
    "id": "oPN-KW8ErP4a",
    "jp-MarkdownHeadingCollapsed": true
   },
   "source": [
    "# **`Continue Statement`**\n"
   ]
  },
  {
   "cell_type": "code",
   "execution_count": null,
   "metadata": {
    "execution": {
     "iopub.execute_input": "2021-12-14T06:14:44.160916Z",
     "iopub.status.busy": "2021-12-14T06:14:44.160579Z",
     "iopub.status.idle": "2021-12-14T06:14:44.169578Z",
     "shell.execute_reply": "2021-12-14T06:14:44.168622Z",
     "shell.execute_reply.started": "2021-12-14T06:14:44.160884Z"
    },
    "id": "I7RGHGcDrP4a"
   },
   "outputs": [],
   "source": [
    "# Using same `for loop program` as in Break Statement section above\n",
    "# Use a continue statement rather than a break statement\n",
    "\n",
    "# take range(10) and print 'The number is' + value\n",
    "# continue when num equals 5\n"
   ]
  },
  {
   "cell_type": "code",
   "execution_count": 51,
   "metadata": {
    "id": "-Yc9HCzFst1q"
   },
   "outputs": [
    {
     "name": "stdout",
     "output_type": "stream",
     "text": [
      "the number is: 0\n",
      "the number is: 1\n",
      "the number is: 2\n",
      "the number is: 3\n",
      "the number is: 4\n",
      "the number is: 6\n",
      "the number is: 7\n",
      "the number is: 8\n",
      "the number is: 9\n"
     ]
    }
   ],
   "source": [
    "for num in range(10):\n",
    "    if num == 5:\n",
    "        continue\n",
    "\n",
    "    print(\"the number is:\", num)"
   ]
  },
  {
   "cell_type": "markdown",
   "metadata": {
    "id": "PMmen0JyrP4r",
    "jp-MarkdownHeadingCollapsed": true
   },
   "source": [
    "# **`String Manipulation`**"
   ]
  },
  {
   "cell_type": "code",
   "execution_count": null,
   "metadata": {
    "id": "8J1dpy6rrP4r"
   },
   "outputs": [],
   "source": [
    "string_ = '' or \"\" or \"\"\" \"\"\""
   ]
  },
  {
   "cell_type": "code",
   "execution_count": 54,
   "metadata": {
    "id": "P4TiJEQCrP4s"
   },
   "outputs": [
    {
     "name": "stdout",
     "output_type": "stream",
     "text": [
      "We are creating next generation data science eco-system at CollegeRanker\n"
     ]
    }
   ],
   "source": [
    "# define a string variable with \"We are creating next generation data science eco-system at CollegeRanker\"\n",
    "\n",
    "string_variable = \"We are creating next generation data science eco-system at CollegeRanker\"\n",
    "print(string_variable)"
   ]
  },
  {
   "cell_type": "code",
   "execution_count": 55,
   "metadata": {
    "id": "Ujfo-CHZrP4s"
   },
   "outputs": [
    {
     "name": "stdout",
     "output_type": "stream",
     "text": [
      "72\n"
     ]
    }
   ],
   "source": [
    "# Find length of string including spacesa\n",
    "\n",
    "string_variable = \"We are creating next generation data science eco-system at CollegeRanker\"\n",
    "\n",
    "len_of_string = len(string_variable)\n",
    "\n",
    "print(len_of_string)"
   ]
  },
  {
   "cell_type": "code",
   "execution_count": 56,
   "metadata": {
    "id": "huRY2kW4rP4s"
   },
   "outputs": [
    {
     "name": "stdout",
     "output_type": "stream",
     "text": [
      "First character: W\n",
      "Fifth character: r\n",
      "Last character: r\n"
     ]
    }
   ],
   "source": [
    "# Access characters in a string with indexing i.e string[0]\n",
    "string_variable = \"We are creating next generation data science eco-system at CollegeRanker\"\n",
    "\n",
    "# Access characters in the string by index\n",
    "first_character = string_variable[0]  # The first character (W)\n",
    "fifth_character = string_variable[4]  # The fifth character (r)\n",
    "last_character = string_variable[-1]  # The last character (r)\n",
    "\n",
    "# Print the accessed characters\n",
    "print(\"First character:\", first_character)\n",
    "print(\"Fifth character:\", fifth_character)\n",
    "print(\"Last character:\", last_character)\n"
   ]
  },
  {
   "cell_type": "code",
   "execution_count": 57,
   "metadata": {
    "id": "ynPqdSYdrP4s"
   },
   "outputs": [
    {
     "name": "stdout",
     "output_type": "stream",
     "text": [
      "Last character: r\n",
      "Second last character: e\n",
      "Third last character: k\n"
     ]
    }
   ],
   "source": [
    "# Access characters with negative indexing i.e string[-1]\n",
    "\n",
    "# Define the string variable\n",
    "string_variable = \"We are creating next generation data science eco-system at CollegeRanker\"\n",
    "\n",
    "# Access characters using negative indexing\n",
    "last_character = string_variable[-1]  # The last character (r)\n",
    "second_last_character = string_variable[-2]  # The second-to-last character (e)\n",
    "third_last_character = string_variable[-3]  # The third-to-last character (r)\n",
    "\n",
    "# Print the accessed characters\n",
    "print(\"Last character:\", last_character)\n",
    "print(\"Second last character:\", second_last_character)\n",
    "print(\"Third last character:\", third_last_character)"
   ]
  },
  {
   "cell_type": "markdown",
   "metadata": {
    "id": "O9VaefTGrP4s",
    "jp-MarkdownHeadingCollapsed": true
   },
   "source": [
    "# String Slicing"
   ]
  },
  {
   "cell_type": "code",
   "execution_count": 58,
   "metadata": {
    "id": "ry8spVYHrP4s"
   },
   "outputs": [
    {
     "name": "stdout",
     "output_type": "stream",
     "text": [
      "We are\n"
     ]
    }
   ],
   "source": [
    "# select string from first to 6th element i.e string[:6]\n",
    "\n",
    "# Define the string variable\n",
    "string_variable = \"We are creating next generation data science eco-system at CollegeRanker\"\n",
    "\n",
    "# Select string from first to 6th element\n",
    "substring = string_variable[:6]\n",
    "\n",
    "# Print the substring\n",
    "print(substring)"
   ]
  },
  {
   "cell_type": "code",
   "execution_count": 59,
   "metadata": {
    "id": "9yyS6grLrP4s"
   },
   "outputs": [
    {
     "name": "stdout",
     "output_type": "stream",
     "text": [
      "creating next generation data science eco-system at Col\n"
     ]
    }
   ],
   "source": [
    "# select string from 7th to negative 10th element i.e string[7:-10]\n",
    "\n",
    "# Define the string variable\n",
    "string_variable = \"We are creating next generation data science eco-system at CollegeRanker\"\n",
    "\n",
    "# Select string from 7th to negative 10th element\n",
    "substring = string_variable[7:-10]\n",
    "\n",
    "# Print the substring\n",
    "print(substring)\n"
   ]
  },
  {
   "cell_type": "markdown",
   "metadata": {
    "id": "IE-m76lwrP4s"
   },
   "source": [
    "Count of a particular `character` in a string"
   ]
  },
  {
   "cell_type": "code",
   "execution_count": 60,
   "metadata": {
    "id": "036-jd2TrP4s"
   },
   "outputs": [
    {
     "name": "stdout",
     "output_type": "stream",
     "text": [
      "The character 'e' appears 13 times.\n"
     ]
    }
   ],
   "source": [
    "\n",
    "# Define the string variable\n",
    "string_variable = \"We are creating next generation data science eco-system at CollegeRanker\"\n",
    "\n",
    "# Count occurrences of a particular character (e.g., 'e')\n",
    "count_of_e = string_variable.count('e')\n",
    "\n",
    "# Print the count\n",
    "print(\"The character 'e' appears\", count_of_e, \"times.\")\n"
   ]
  },
  {
   "cell_type": "markdown",
   "metadata": {
    "id": "6BhlvAFmrP4s"
   },
   "source": [
    "Count of a particular `sub-string` in a string"
   ]
  },
  {
   "cell_type": "code",
   "execution_count": 61,
   "metadata": {
    "id": "pzaxuLCarP4s"
   },
   "outputs": [
    {
     "name": "stdout",
     "output_type": "stream",
     "text": [
      "The substring 'data science' appears 1 times.\n"
     ]
    }
   ],
   "source": [
    "# Define the string variable\n",
    "string_variable = \"We are creating next generation data science eco-system at CollegeRanker. Data science is amazing.\"\n",
    "\n",
    "# Count occurrences of a particular substring (e.g., 'data science')\n",
    "count_of_substring = string_variable.count('data science')\n",
    "\n",
    "# Print the count\n",
    "print(\"The substring 'data science' appears\", count_of_substring, \"times.\")\n",
    "\n"
   ]
  },
  {
   "cell_type": "markdown",
   "metadata": {
    "id": "gbyWCeAwrP4s"
   },
   "source": [
    "Find a substring in string using `find` and `index` function"
   ]
  },
  {
   "cell_type": "code",
   "execution_count": 62,
   "metadata": {
    "id": "tfFcaCXxrP4t"
   },
   "outputs": [
    {
     "name": "stdout",
     "output_type": "stream",
     "text": [
      "Using .find(): 32\n",
      "Using .index(): 32\n",
      "Using .find() when not found: -1\n",
      "Using .index() when not found: Substring not found\n"
     ]
    }
   ],
   "source": [
    "# .find() => if present it will return starting index, not found then it will return -1\n",
    "# .index() => if present it will return starting index, not found then it will give error\n",
    "\n",
    "# Define the string variable\n",
    "string_variable = \"We are creating next generation data science eco-system at CollegeRanker\"\n",
    "\n",
    "# Use .find() to find the index of a substring\n",
    "find_result = string_variable.find('data science')\n",
    "\n",
    "# Use .index() to find the index of a substring\n",
    "try:\n",
    "    index_result = string_variable.index('data science')\n",
    "except ValueError:\n",
    "    index_result = \"Substring not found\"\n",
    "\n",
    "# Print results\n",
    "print(\"Using .find():\", find_result)\n",
    "print(\"Using .index():\", index_result)\n",
    "\n",
    "# Example when the substring is not found\n",
    "find_result_not_found = string_variable.find('Python')\n",
    "index_result_not_found = \"Substring not found\"\n",
    "try:\n",
    "    index_result_not_found = string_variable.index('Python')\n",
    "except ValueError:\n",
    "    index_result_not_found = \"Substring not found\"\n",
    "\n",
    "print(\"Using .find() when not found:\", find_result_not_found)\n",
    "print(\"Using .index() when not found:\", index_result_not_found)\n"
   ]
  },
  {
   "cell_type": "code",
   "execution_count": 63,
   "metadata": {
    "id": "QK6TfpWyrP4t"
   },
   "outputs": [
    {
     "name": "stdout",
     "output_type": "stream",
     "text": [
      "Does the string start with 'We are'? True\n",
      "Does the string end with 'Ranker'? True\n",
      "Does the string start with 'data science'? False\n",
      "Does the string end with 'data'? False\n"
     ]
    }
   ],
   "source": [
    "### Checking whether string `startswith` or `endswith` a particular substring or not\n",
    "\n",
    "# Define the string variable\n",
    "string_variable = \"We are creating next generation data science eco-system at CollegeRanker\"\n",
    "\n",
    "# Check if the string starts with a particular substring\n",
    "startswith_result = string_variable.startswith('We are')\n",
    "\n",
    "# Check if the string ends with a particular substring\n",
    "endswith_result = string_variable.endswith('Ranker')\n",
    "\n",
    "# Print results\n",
    "print(\"Does the string start with 'We are'?\", startswith_result)\n",
    "print(\"Does the string end with 'Ranker'?\", endswith_result)\n",
    "\n",
    "# Example where substring is not at the start or end\n",
    "startswith_result_not_found = string_variable.startswith('data science')\n",
    "endswith_result_not_found = string_variable.endswith('data')\n",
    "\n",
    "print(\"Does the string start with 'data science'?\", startswith_result_not_found)\n",
    "print(\"Does the string end with 'data'?\", endswith_result_not_found)\n"
   ]
  },
  {
   "cell_type": "code",
   "execution_count": 64,
   "metadata": {
    "id": "LpEf2Vi_rP4t"
   },
   "outputs": [
    {
     "name": "stdout",
     "output_type": "stream",
     "text": [
      "WE ARE CREATING NEXT GENERATION DATA SCIENCE ECO-SYSTEM AT COLLEGERANKER\n"
     ]
    }
   ],
   "source": [
    "### Converting string to upper case ###\n",
    "\n",
    "# Define the string variable\n",
    "string_variable = \"We are creating next generation data science eco-system at CollegeRanker\"\n",
    "\n",
    "# Convert the string to uppercase\n",
    "uppercase_string = string_variable.upper()\n",
    "\n",
    "# Print the uppercase string\n",
    "print(uppercase_string)\n"
   ]
  },
  {
   "cell_type": "code",
   "execution_count": 65,
   "metadata": {
    "id": "C-lc1BM5rP4t"
   },
   "outputs": [
    {
     "name": "stdout",
     "output_type": "stream",
     "text": [
      "We are creating next generation data science eco-system at collegeranker\n"
     ]
    }
   ],
   "source": [
    "### Converting only first character of string to upper case\n",
    "\n",
    "# Define the string variable\n",
    "string_variable = \"we are creating next generation data science eco-system at CollegeRanker\"\n",
    "\n",
    "# Convert only the first character to uppercase\n",
    "capitalized_string = string_variable.capitalize()\n",
    "\n",
    "# Print the capitalized string\n",
    "print(capitalized_string)\n"
   ]
  },
  {
   "cell_type": "code",
   "execution_count": 66,
   "metadata": {
    "id": "eUfso5gHrP4t"
   },
   "outputs": [
    {
     "name": "stdout",
     "output_type": "stream",
     "text": [
      "Is string_lower in lowercase? True\n",
      "Is string_upper in lowercase? False\n",
      "Is string_mixed in lowercase? False\n",
      "Is string_lower in uppercase? False\n",
      "Is string_upper in uppercase? True\n",
      "Is string_mixed in uppercase? False\n"
     ]
    }
   ],
   "source": [
    "### Checking if string is in lower case or upper case\n",
    "\n",
    "# Define the string variables\n",
    "string_lower = \"we are creating next generation data science eco-system\"\n",
    "string_upper = \"WE ARE CREATING NEXT GENERATION DATA SCIENCE ECO-SYSTEM\"\n",
    "string_mixed = \"We are creating Next Generation Data Science Eco-System\"\n",
    "\n",
    "# Check if the strings are in lowercase\n",
    "print(\"Is string_lower in lowercase?\", string_lower.islower())\n",
    "print(\"Is string_upper in lowercase?\", string_upper.islower())\n",
    "print(\"Is string_mixed in lowercase?\", string_mixed.islower())\n",
    "\n",
    "# Check if the strings are in uppercase\n",
    "print(\"Is string_lower in uppercase?\", string_lower.isupper())\n",
    "print(\"Is string_upper in uppercase?\", string_upper.isupper())\n",
    "print(\"Is string_mixed in uppercase?\", string_mixed.isupper())\n"
   ]
  },
  {
   "cell_type": "code",
   "execution_count": 67,
   "metadata": {
    "id": "4KJ8oYacrP4t"
   },
   "outputs": [
    {
     "name": "stdout",
     "output_type": "stream",
     "text": [
      "Is string_digit a digit? True\n",
      "Is string_alpha a digit? False\n",
      "Is string_alphanumeric a digit? False\n",
      "Is string_digit alphabetic? False\n",
      "Is string_alpha alphabetic? True\n",
      "Is string_alphanumeric alphabetic? False\n",
      "Is string_digit alphanumeric? True\n",
      "Is string_alpha alphanumeric? True\n",
      "Is string_alphanumeric alphanumeric? True\n",
      "Is string_special_characters alphanumeric? False\n"
     ]
    }
   ],
   "source": [
    "### Checking if string is digit, alpabetic, alpha-numeric\n",
    "\n",
    "# Define the string variables\n",
    "string_digit = \"123456\"\n",
    "string_alpha = \"HelloWorld\"\n",
    "string_alphanumeric = \"Hello123\"\n",
    "string_special_characters = \"Hello@123\"\n",
    "\n",
    "# Check if the strings are digits\n",
    "print(\"Is string_digit a digit?\", string_digit.isdigit())\n",
    "print(\"Is string_alpha a digit?\", string_alpha.isdigit())\n",
    "print(\"Is string_alphanumeric a digit?\", string_alphanumeric.isdigit())\n",
    "\n",
    "# Check if the strings are alphabetic\n",
    "print(\"Is string_digit alphabetic?\", string_digit.isalpha())\n",
    "print(\"Is string_alpha alphabetic?\", string_alpha.isalpha())\n",
    "print(\"Is string_alphanumeric alphabetic?\", string_alphanumeric.isalpha())\n",
    "\n",
    "# Check if the strings are alphanumeric\n",
    "print(\"Is string_digit alphanumeric?\", string_digit.isalnum())\n",
    "print(\"Is string_alpha alphanumeric?\", string_alpha.isalnum())\n",
    "print(\"Is string_alphanumeric alphanumeric?\", string_alphanumeric.isalnum())\n",
    "print(\"Is string_special_characters alphanumeric?\", string_special_characters.isalnum())\n",
    "\n"
   ]
  },
  {
   "cell_type": "code",
   "execution_count": 68,
   "metadata": {
    "id": "SGBdMJeurP4u"
   },
   "outputs": [
    {
     "data": {
      "text/plain": [
       "'C++ is easy to learn'"
      ]
     },
     "execution_count": 68,
     "metadata": {},
     "output_type": "execute_result"
    }
   ],
   "source": [
    "# assign \"C++ is easy to learn\" to a new_str variable\n",
    "\n",
    "# Assign the string \"C++ is easy to learn\" to the variable new_str\n",
    "new_str = \"C++ is easy to learn\"\n",
    "\n",
    "# Print the new_str variable to check the assignment\n",
    "new_str\n"
   ]
  },
  {
   "cell_type": "code",
   "execution_count": 69,
   "metadata": {
    "id": "o3IMBWfqrP4u"
   },
   "outputs": [
    {
     "data": {
      "text/plain": [
       "'Python is easy to learn'"
      ]
     },
     "execution_count": 69,
     "metadata": {},
     "output_type": "execute_result"
    }
   ],
   "source": [
    "### Replace C++ with Python\n",
    "\n",
    "# Replace \"C++\" with \"Python\" in the new_str variable\n",
    "new_str_replaced = new_str.replace(\"C++\", \"Python\")\n",
    "\n",
    "# Print the updated string\n",
    "new_str_replaced\n"
   ]
  },
  {
   "cell_type": "code",
   "execution_count": 70,
   "metadata": {
    "id": "himKDrvcrP4u"
   },
   "outputs": [
    {
     "data": {
      "text/plain": [
       "['C++', 'is', 'easy', 'to', 'learn']"
      ]
     },
     "execution_count": 70,
     "metadata": {},
     "output_type": "execute_result"
    }
   ],
   "source": [
    "### Use Split function on new_str ###\n",
    "\n",
    "# Use the split function on new_str to split the string into a list of words\n",
    "split_str = new_str.split()\n",
    "\n",
    "# Print the resulting list after splitting\n",
    "split_str\n"
   ]
  },
  {
   "cell_type": "markdown",
   "metadata": {
    "execution": {
     "iopub.execute_input": "2021-12-13T11:09:45.285163Z",
     "iopub.status.busy": "2021-12-13T11:09:45.284668Z",
     "iopub.status.idle": "2021-12-13T11:09:45.291474Z",
     "shell.execute_reply": "2021-12-13T11:09:45.290548Z",
     "shell.execute_reply.started": "2021-12-13T11:09:45.285128Z"
    },
    "id": "cCDcaUzHrP4u",
    "jp-MarkdownHeadingCollapsed": true,
    "outputId": "26c9046b-e3f3-41c5-ab4a-051bbf4bf5f5"
   },
   "source": [
    "# **`Python Functions`**"
   ]
  },
  {
   "cell_type": "code",
   "execution_count": null,
   "metadata": {
    "colab": {
     "base_uri": "https://localhost:8080/",
     "height": 38
    },
    "execution": {
     "iopub.execute_input": "2021-12-14T10:18:36.097257Z",
     "iopub.status.busy": "2021-12-14T10:18:36.096956Z",
     "iopub.status.idle": "2021-12-14T10:18:36.102958Z",
     "shell.execute_reply": "2021-12-14T10:18:36.102283Z",
     "shell.execute_reply.started": "2021-12-14T10:18:36.097225Z"
    },
    "id": "4jqkxfNdrP4z",
    "outputId": "a232eae4-3829-4a38-cb4f-bc0e36d3ecf2"
   },
   "outputs": [
    {
     "data": {
      "text/plain": [
       "'\\ndef function_name():\\n    stetement(s)\\n'"
      ]
     },
     "execution_count": 76,
     "metadata": {},
     "output_type": "execute_result"
    }
   ],
   "source": [
    "\"\"\"\n",
    "def function_name():\n",
    "    stetement(s)\n",
    "\"\"\""
   ]
  },
  {
   "cell_type": "code",
   "execution_count": 72,
   "metadata": {
    "id": "L8OCfOyPrP4z"
   },
   "outputs": [
    {
     "name": "stdout",
     "output_type": "stream",
     "text": [
      "Welcome to Functions, Alice!!!\n"
     ]
    }
   ],
   "source": [
    "# define a function with welcome_message(name) and body 'Welcome to Functions !!!'\n",
    "\n",
    "# Define a function welcome_message with a parameter 'name'\n",
    "def welcome_message(name):\n",
    "    print(f\"Welcome to Functions, {name}!!!\")\n",
    "\n",
    "# Call the function with an example name\n",
    "welcome_message(\"Alice\")\n"
   ]
  },
  {
   "cell_type": "code",
   "execution_count": 73,
   "metadata": {
    "id": "asBr2ewErP4z"
   },
   "outputs": [
    {
     "name": "stdout",
     "output_type": "stream",
     "text": [
      "Welcome to Functions, Ashutosh!!!\n"
     ]
    }
   ],
   "source": [
    "# call a function with your name\n",
    "# Define a function welcome_message with a parameter 'name'\n",
    "def welcome_message(name):\n",
    "    print(f\"Welcome to Functions, {name}!!!\")\n",
    "\n",
    "# Call the function with an example name\n",
    "welcome_message(\"Ashutosh\")\n"
   ]
  },
  {
   "cell_type": "markdown",
   "metadata": {
    "id": "YKfp2X2irP4z"
   },
   "source": [
    "* `def` Keyword marking start of function\n",
    "* `function name` to uniquely identify function\n",
    "    * `function naming` follows same `rules of writing identifiers`\n",
    "* `parameters`(arguments) to pass values to a function => totally optional\n",
    "* `()` paranthesis\n",
    "* `colon (:)` start of function\n",
    "* `documentation string`(docstring) describe's what function does => totally optional\n",
    "* `return statement` returns a value from function => totally optional\n",
    "* inside colon is `function definition` it should always be present before function call or get an error"
   ]
  },
  {
   "cell_type": "code",
   "execution_count": 74,
   "metadata": {
    "id": "TbWL-gm-rP4z"
   },
   "outputs": [
    {
     "name": "stdout",
     "output_type": "stream",
     "text": [
      "7\n"
     ]
    }
   ],
   "source": [
    "# Write a function to add two number which are as 3 and 4\n",
    "# in total variable store adition of 3 + 4\n",
    "# print total variable\n",
    "\n",
    "# Define a function to add two numbers\n",
    "def add_two_numbers(a, b):\n",
    "    total = a + b\n",
    "    print(total)\n",
    "\n",
    "# Call the function with numbers 3 and 4\n",
    "add_two_numbers(3, 4)\n"
   ]
  },
  {
   "cell_type": "markdown",
   "metadata": {
    "id": "JzTJaFZirP41",
    "jp-MarkdownHeadingCollapsed": true
   },
   "source": [
    "# ***`Positional Arguments`***\n",
    "Most arguments are identified by their position in function call\n",
    "* Say `print(x,y)` will give different results from `print(y,x)`\n",
    "\n",
    "What ever sequence is given while defining a function values must be taken in that sequence only\n",
    "* Otherwise use argument name **`(keyword arguments)`** to take values\n",
    "* We first define `positional argument` and then `keyword arguments`\n"
   ]
  },
  {
   "cell_type": "code",
   "execution_count": 75,
   "metadata": {
    "id": "LpgDIWcYrP41"
   },
   "outputs": [
    {
     "name": "stdout",
     "output_type": "stream",
     "text": [
      "5\n"
     ]
    }
   ],
   "source": [
    "## Create substraction_function(small_number,large_number) and return difference between large_number and small_number\n",
    "\n",
    "def subtraction_function(small_number, large_number):\n",
    "    difference = large_number - small_number\n",
    "    return difference\n",
    "\n",
    "# Example usage:\n",
    "result = subtraction_function(5, 10)\n",
    "print(result)  # Output will be 5\n"
   ]
  },
  {
   "cell_type": "code",
   "execution_count": 76,
   "metadata": {
    "id": "AX6Ku1j9rP41"
   },
   "outputs": [
    {
     "name": "stdout",
     "output_type": "stream",
     "text": [
      "5\n"
     ]
    }
   ],
   "source": [
    "# pass arguments in right order\n",
    "\n",
    "def subtraction_function(small_number, large_number):\n",
    "    difference = large_number - small_number\n",
    "    return difference\n",
    "\n",
    "# Correctly passing arguments (small_number first, then large_number)\n",
    "result = subtraction_function(5, 10)\n",
    "print(result)  # Output will be 5\n"
   ]
  },
  {
   "cell_type": "code",
   "execution_count": null,
   "metadata": {
    "execution": {
     "iopub.execute_input": "2021-12-11T10:27:51.964287Z",
     "iopub.status.busy": "2021-12-11T10:27:51.963803Z",
     "iopub.status.idle": "2021-12-11T10:27:51.969195Z",
     "shell.execute_reply": "2021-12-11T10:27:51.968619Z",
     "shell.execute_reply.started": "2021-12-11T10:27:51.964251Z"
    },
    "id": "zSWT96GurP41"
   },
   "outputs": [],
   "source": [
    "# always pass arguments using there name(keyword arguments) then order does not matter\n",
    "\n"
   ]
  },
  {
   "cell_type": "code",
   "execution_count": 77,
   "metadata": {
    "id": "6pyTMndlst11"
   },
   "outputs": [
    {
     "name": "stdout",
     "output_type": "stream",
     "text": [
      "5\n",
      "5\n"
     ]
    }
   ],
   "source": [
    "def subtraction_function(small_number, large_number):\n",
    "    difference = large_number - small_number\n",
    "    return difference\n",
    "\n",
    "# Passing arguments using keyword arguments (order doesn't matter)\n",
    "result = subtraction_function(small_number=5, large_number=10)\n",
    "print(result)  # Output will be 5\n",
    "\n",
    "# You can also pass the arguments in reverse order using keyword arguments\n",
    "result_reverse = subtraction_function(large_number=10, small_number=5)\n",
    "print(result_reverse)  # Output will also be 5\n"
   ]
  },
  {
   "cell_type": "markdown",
   "metadata": {
    "id": "_NUdf1OsrP42"
   },
   "source": [
    "# ***`Scope of Variables`*** means that part of program where we can access particular variable\n",
    "* `Local Variable` => variables defined inside a function and can be only accessed from inside of that particular function\n",
    "* `Global Variable` => variables defined outside a function and can be accessed throughout program\n",
    "\n",
    "Let's define a global variable, `\"global_variable\"` outside function\n",
    "* We will return its value using a function `\"randome_function\"` and see that we would be able to access its value using that function also"
   ]
  },
  {
   "cell_type": "code",
   "execution_count": 78,
   "metadata": {
    "id": "e0BDQ-ccrP42"
   },
   "outputs": [],
   "source": [
    "#### Observe every output from here onwords #####\n",
    "# defining a global variable\n",
    "global_variable = 'variable outside of function'\n",
    "\n",
    "# defining function\n",
    "def random_function():\n",
    "    # accessing variable which is outside of this function\n",
    "    return global_variable"
   ]
  },
  {
   "cell_type": "code",
   "execution_count": 79,
   "metadata": {
    "colab": {
     "base_uri": "https://localhost:8080/",
     "height": 38
    },
    "id": "2hYmUr5BrP42",
    "outputId": "409967fa-7156-418e-c19d-4b9eec029fd9"
   },
   "outputs": [
    {
     "data": {
      "text/plain": [
       "'variable outside of function'"
      ]
     },
     "execution_count": 79,
     "metadata": {},
     "output_type": "execute_result"
    }
   ],
   "source": [
    "random_function()"
   ]
  },
  {
   "cell_type": "markdown",
   "metadata": {
    "id": "w7AB55isrP42"
   },
   "source": [
    "`See we can acess the data of golbal variable from Inside of the Function`\n",
    "\n",
    "# **`=> Let's see what will happen if we try to change value of global variable from Inside of the Function`**"
   ]
  },
  {
   "cell_type": "code",
   "execution_count": 80,
   "metadata": {
    "id": "1cOFox6FrP43"
   },
   "outputs": [],
   "source": [
    "#### Observe every output from here onwords #####\n",
    "# defining a global variable\n",
    "global_variable = 'variable outside of function'\n",
    "\n",
    "# defining function\n",
    "def random_function():\n",
    "    # changing value of global variable from inside of the function\n",
    "    global_variable = 'changing variable outside of function from inside of function'\n",
    "    # accessing variable which is outside of this function\n",
    "    return global_variable"
   ]
  },
  {
   "cell_type": "code",
   "execution_count": null,
   "metadata": {
    "colab": {
     "base_uri": "https://localhost:8080/"
    },
    "execution": {
     "iopub.execute_input": "2021-12-11T11:32:36.29647Z",
     "iopub.status.busy": "2021-12-11T11:32:36.296167Z",
     "iopub.status.idle": "2021-12-11T11:32:36.300653Z",
     "shell.execute_reply": "2021-12-11T11:32:36.30002Z",
     "shell.execute_reply.started": "2021-12-11T11:32:36.29644Z"
    },
    "id": "8ScwL6OUrP43",
    "outputId": "e26b52e1-1627-493b-b808-64c656e91562"
   },
   "outputs": [
    {
     "name": "stdout",
     "output_type": "stream",
     "text": [
      "changing variable outside of function from inside of function\n",
      "variable outside of function\n"
     ]
    }
   ],
   "source": [
    "print(random_function())\n",
    "print(global_variable)"
   ]
  },
  {
   "cell_type": "code",
   "execution_count": null,
   "metadata": {
    "id": "BBOOXWYRst12"
   },
   "outputs": [],
   "source": []
  },
  {
   "cell_type": "code",
   "execution_count": null,
   "metadata": {
    "id": "mB89UWihst13"
   },
   "outputs": [],
   "source": []
  }
 ],
 "metadata": {
  "colab": {
   "collapsed_sections": [
    "slh282AprP4M",
    "W-7tOm5CrP4P",
    "7Mo7XNVNrP4W",
    "_jF5-7_PrP4e",
    "fI6TbJ9IrP4e",
    "kPw6N8X_rP45"
   ],
   "provenance": []
  },
  "kernelspec": {
   "display_name": "Python 3 (ipykernel)",
   "language": "python",
   "name": "python3"
  },
  "language_info": {
   "codemirror_mode": {
    "name": "ipython",
    "version": 3
   },
   "file_extension": ".py",
   "mimetype": "text/x-python",
   "name": "python",
   "nbconvert_exporter": "python",
   "pygments_lexer": "ipython3",
   "version": "3.12.4"
  }
 },
 "nbformat": 4,
 "nbformat_minor": 4
}
